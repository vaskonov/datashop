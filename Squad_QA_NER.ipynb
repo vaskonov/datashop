{
  "nbformat": 4,
  "nbformat_minor": 0,
  "metadata": {
    "accelerator": "GPU",
    "colab": {
      "name": "Squad_QA_draft.ipynb",
      "provenance": []
    },
    "kernelspec": {
      "display_name": "Python 3",
      "name": "python3"
    }
  },
  "cells": [
    {
      "cell_type": "code",
      "metadata": {
        "id": "WX_rCiJdaxeC"
      },
      "source": [
        "import pandas as pd\r\n",
        "import numpy as np\r\n",
        "from collections import defaultdict\r\n",
        "\r\n",
        "from tqdm import tqdm\r\n"
      ],
      "execution_count": 1,
      "outputs": []
    },
    {
      "cell_type": "code",
      "metadata": {
        "id": "DlviryDTJM_C"
      },
      "source": [
        "!pip install deeppavlov"
      ],
      "execution_count": null,
      "outputs": []
    },
    {
      "cell_type": "code",
      "metadata": {
        "id": "QKJb82QyLycp"
      },
      "source": [
        "!python -m deeppavlov install squad_torch_bert"
      ],
      "execution_count": null,
      "outputs": []
    },
    {
      "cell_type": "code",
      "metadata": {
        "id": "_42OPFM_JG6K"
      },
      "source": [
        "from deeppavlov import configs, build_model\r\n",
        "\r\n",
        "squad_model = build_model(configs.squad.squad_torch_bert, download=True)"
      ],
      "execution_count": null,
      "outputs": []
    },
    {
      "cell_type": "code",
      "metadata": {
        "id": "rrNaijEL9eHk"
      },
      "source": [
        ""
      ],
      "execution_count": null,
      "outputs": []
    },
    {
      "cell_type": "code",
      "metadata": {
        "id": "_cWzqHjoogrO"
      },
      "source": [
        "with open('CONLL2003/eng_train.txt', 'r', encoding='utf8') as f:\r\n",
        "  text = f.read()\r\n",
        "  f.close()"
      ],
      "execution_count": 37,
      "outputs": []
    },
    {
      "cell_type": "code",
      "metadata": {
        "id": "txZdrMgOREKK"
      },
      "source": [
        "import re"
      ],
      "execution_count": 38,
      "outputs": []
    },
    {
      "cell_type": "code",
      "metadata": {
        "id": "2NH3sOUIkygQ"
      },
      "source": [
        "text = re.sub('I-MISC', 'misc', text)\r\n",
        "text = re.sub('I-LOC', 'location', text) \r\n",
        "text = re.sub('I-PER', 'person', text)\r\n",
        "text = re.sub('I-ORG', 'organisation', text)"
      ],
      "execution_count": 39,
      "outputs": []
    },
    {
      "cell_type": "code",
      "metadata": {
        "id": "M0fqYXKSvAfp"
      },
      "source": [
        "texts = [text.split('\\n') for text in [text for text in text.split('\\n\\n')]]"
      ],
      "execution_count": 40,
      "outputs": []
    },
    {
      "cell_type": "code",
      "metadata": {
        "colab": {
          "base_uri": "https://localhost:8080/"
        },
        "id": "-NiwuPTCRJ07",
        "outputId": "07cd3b2c-6953-449f-a99d-1e0195419ee0"
      },
      "source": [
        "len(texts) "
      ],
      "execution_count": 42,
      "outputs": [
        {
          "output_type": "execute_result",
          "data": {
            "text/plain": [
              "14987"
            ]
          },
          "metadata": {
            "tags": []
          },
          "execution_count": 42
        }
      ]
    },
    {
      "cell_type": "code",
      "metadata": {
        "id": "eoYV3zHDmyZG"
      },
      "source": [
        "true_org = []\r\n",
        "true_person = []\r\n",
        "pred_org = []\r\n",
        "pred_person = []\r\n",
        "\r\n",
        "true_loc = []\r\n",
        "true_misc = []\r\n",
        "pred_loc = []\r\n",
        "pred_misc = []\r\n",
        "n = 0\r\n",
        "for text in texts:\r\n",
        "  n+=1\r\n",
        "  print(n)\r\n",
        "  per = []\r\n",
        "  org = []\r\n",
        "  loc = []\r\n",
        "  misc = []\r\n",
        "  clean_text = ''\r\n",
        "  for e in text:\r\n",
        "    token_full = e.split(' ')\r\n",
        "    ind = len(token_full) - 1\r\n",
        "    ent_name = token_full[ind]\r\n",
        "    token = token_full[0]\r\n",
        "    if token in \"'s'.,\":\r\n",
        "      clean_text += token\r\n",
        "    if token not in \"'s'.,\":\r\n",
        "      clean_text += \" \" +  token\r\n",
        "    if ent_name == 'person':\r\n",
        "      per.append(token)\r\n",
        "    if ent_name == 'organisation':\r\n",
        "      org.append(token) \r\n",
        "    if ent_name == 'location':\r\n",
        "      loc.append(token)\r\n",
        "    if ent_name == 'misc':\r\n",
        "      misc.append(token)\r\n",
        "\r\n",
        "  result_person = squad_model([clean_text], \r\n",
        "      ['person'])\r\n",
        "  result_org = squad_model([clean_text], \r\n",
        "      ['organisation'])\r\n",
        "  result_loc = squad_model([clean_text], \r\n",
        "      ['location'])\r\n",
        "  result_misc = squad_model([clean_text], \r\n",
        "      ['entity'])\r\n",
        "  \r\n",
        "  result_person = ' '.join(result_person[0])\r\n",
        "  result_org = ' '.join(result_org[0])\r\n",
        "  result_loc = ' '.join(result_loc[0])\r\n",
        "  result_misc = ' '.join(result_misc[0])\r\n",
        "  \r\n",
        "  orig_pers = ' '.join(per)\r\n",
        "  orig_orgs = ' '.join(org)\r\n",
        "  orig_loc = ' '.join(loc)\r\n",
        "  orig_misc = ' '.join(misc)\r\n",
        "\r\n",
        "  true_person.append(orig_pers)\r\n",
        "  true_org.append(orig_orgs)\r\n",
        "  true_loc.append(orig_loc)\r\n",
        "  true_misc.append(orig_misc)\r\n",
        "\r\n",
        "  pred_person.append(result_person)\r\n",
        "  pred_org.append(result_org)\r\n",
        "  pred_loc.append(result_loc)\r\n",
        "  pred_misc.append(result_misc)\r\n",
        "\r\n"
      ],
      "execution_count": null,
      "outputs": []
    },
    {
      "cell_type": "markdown",
      "metadata": {
        "id": "X6r1Pfcz366z"
      },
      "source": [
        "Только непустая разметка"
      ]
    },
    {
      "cell_type": "code",
      "metadata": {
        "id": "_afukPO3mKF0"
      },
      "source": [
        "def precision_sc(pred, true, entity_name):\r\n",
        "  precision = 0\r\n",
        "  n = 0\r\n",
        "  for pred_, true_ in zip(pred, true):\r\n",
        "    if true_:\r\n",
        "      n += 1\r\n",
        "      pred_ = pred_.split(' ')\r\n",
        "      true_ = true_.split(' ')\r\n",
        "      tp = set(pred_).intersection(set(true_))\r\n",
        "      fp = len(pred_) - len(tp)\r\n",
        "      precision += len(tp)/(len(tp) + fp)\r\n",
        "    else:\r\n",
        "      continue\r\n",
        "\r\n",
        "  print(entity_name, 'precision:', precision/n)"
      ],
      "execution_count": 50,
      "outputs": []
    },
    {
      "cell_type": "code",
      "metadata": {
        "id": "OMp3An4mmsob"
      },
      "source": [
        "def recall_sc(pred, true, entity_name):\r\n",
        "  recall = 0\r\n",
        "  n = 0\r\n",
        "  for true_, pred_ in zip(true, pred):\r\n",
        "    if true_:\r\n",
        "      n += 1\r\n",
        "      pred_ = pred_.split(' ')\r\n",
        "      true_ = true_.split(' ')\r\n",
        "      tp = set(pred_).intersection(set(true_))\r\n",
        "      fn = len(true_) - len(tp)\r\n",
        "      recall += len(tp)/(len(tp) + fn)\r\n",
        "    else:\r\n",
        "      continue\r\n",
        "\r\n",
        "  print(entity_name, 'recall:', recall/n)"
      ],
      "execution_count": 51,
      "outputs": []
    },
    {
      "cell_type": "code",
      "metadata": {
        "id": "Mg3XtD4tu2s4",
        "colab": {
          "base_uri": "https://localhost:8080/"
        },
        "outputId": "7c6e7e38-bb4c-4457-ad4b-3a91182c3ec1"
      },
      "source": [
        "precision_sc(pred_person, true_person, \"person\")\r\n",
        "precision_sc(pred_org, true_org, \"organisation\")\r\n",
        "precision_sc(pred_loc, true_loc, \"location\")\r\n",
        "precision_sc(pred_misc, true_misc, \"misc\")\r\n",
        "\r\n",
        "recall_sc(pred_person, true_person,'person')\r\n",
        "recall_sc(pred_org, true_org, \"organisation\")\r\n",
        "recall_sc(pred_loc, true_loc, \"location\")\r\n",
        "recall_sc(pred_misc, true_misc, \"misc\")"
      ],
      "execution_count": 52,
      "outputs": [
        {
          "output_type": "stream",
          "text": [
            "person precision: 0.5675340189611583\n",
            "organisation precision: 0.5148745483580227\n",
            "location precision: 0.3838386614283244\n",
            "misc precision: 0.1920936596038542\n",
            "person recall: 0.6642088935654185\n",
            "organisation recall: 0.7383926485790446\n",
            "location recall: 0.6203857798357507\n",
            "misc recall: 0.5727783366867872\n"
          ],
          "name": "stdout"
        }
      ]
    },
    {
      "cell_type": "markdown",
      "metadata": {
        "id": "ESPtiipl35Ju"
      },
      "source": [
        "Все примеры"
      ]
    },
    {
      "cell_type": "code",
      "metadata": {
        "id": "-lZq9Anx3GpM"
      },
      "source": [
        "def precision_2(pred, true, entity_name):\r\n",
        "  precision = 0\r\n",
        "  for pred_, true_ in zip(pred, true):\r\n",
        "    pred_ = pred_.split(' ')\r\n",
        "    true_ = true_.split(' ')\r\n",
        "    tp = set(pred_).intersection(set(true_))\r\n",
        "    fp = len(pred_) - len(tp)\r\n",
        "    precision += len(tp)/(len(tp) + fp)\r\n",
        "\r\n",
        "  print(entity_name, 'precision:', precision/len(true))\r\n",
        "\r\n",
        "def recall_2(pred, true, entity_name):\r\n",
        "  recall = 0\r\n",
        "  for true_, pred_ in zip(true, pred):\r\n",
        "    pred_ = pred_.split(' ')\r\n",
        "    true_ = true_.split(' ')\r\n",
        "    tp = set(pred_).intersection(set(true_))\r\n",
        "    fn = len(true_) - len(tp)\r\n",
        "    recall += len(tp)/(len(tp) + fn)\r\n",
        "\r\n",
        "  print(entity_name, 'recall:', recall/len(true))"
      ],
      "execution_count": 55,
      "outputs": []
    },
    {
      "cell_type": "code",
      "metadata": {
        "id": "XyYhT0oFtGO5",
        "colab": {
          "base_uri": "https://localhost:8080/"
        },
        "outputId": "b3cdde55-6138-47ad-e4de-2b9f75b1937c"
      },
      "source": [
        "precision_2(pred_person, true_person, \"person\")\r\n",
        "precision_2(pred_org, true_org, \"organisation\")\r\n",
        "precision_2(pred_loc, true_loc, \"location\")\r\n",
        "precision_2(pred_misc, true_misc, \"misc\")\r\n",
        "\r\n",
        "recall_2(pred_person, true_person,'person')\r\n",
        "recall_2(pred_org, true_org, \"organisation\")\r\n",
        "recall_2(pred_loc, true_loc, \"location\")\r\n",
        "recall_2(pred_misc, true_misc, \"misc\")"
      ],
      "execution_count": 56,
      "outputs": [
        {
          "output_type": "stream",
          "text": [
            "person precision: 0.2714903759869978\n",
            "organisation precision: 0.21249946976167688\n",
            "location precision: 0.18755860526743273\n",
            "misc precision: 0.045724207220337675\n",
            "person recall: 0.2996987717062507\n",
            "organisation recall: 0.28091059445066274\n",
            "location recall: 0.26848054268485294\n",
            "misc recall: 0.11425608543277187\n"
          ],
          "name": "stdout"
        }
      ]
    },
    {
      "cell_type": "code",
      "metadata": {
        "id": "iSREEPSo6CI_"
      },
      "source": [
        ""
      ],
      "execution_count": null,
      "outputs": []
    }
  ]
}